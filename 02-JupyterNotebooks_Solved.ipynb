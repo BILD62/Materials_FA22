{
 "cells": [
  {
   "cell_type": "markdown",
   "metadata": {},
   "source": [
    "# Jupyter Notebooks \n",
    "This first notebook will introduce you using Jupyter Notebooks for BILD 62 and beyond. \n",
    "\n",
    "### At the end of this notebook, you'll be able to:\n",
    "* Edit and run code and markdown cells in Jupyter Notebooks\n",
    "* Use basic <b>arithmetic operations</b> in Python\n",
    "* Assign <b>variables</b> and manipulate them\n",
    "* Interpret basic errors while running Jupyter Notebooks\n",
    "* Identify fundamental rules of Python syntax\n",
    "\n",
    "<hr>\n",
    "\n",
    "## Part I. About Jupyter Notebooks\n",
    "\n",
    "Jupyter notebooks are a way to combine executable code, code outputs, and text into one connected file. They run in a web browser, but don't require the internet (unless you're running it on the DataHub).\n",
    "\n",
    "The <b>'kernel'</b> is the thing that executes your code. It is what connects the notebook (as you see it) with the part of your computer, or the DataHub computers, that runs code.\n",
    "\n",
    "Jupyter Notebooks have two types of cells, a <b>Markdown</b> (like this one) and <b>Code</b>. In assignments and in viewing lectures, you don't need to run the Markdown cells, just read through them. However, when we get to a code cell, you need to tell Jupyter to run the lines of code that it contains.\n",
    "\n",
    "### Menu Options & Shortcuts\n",
    "To get a quick tour of the Jupyter user-interface, click on the 'Help' menu, then click 'User Interface Tour'. There are also a large number of useful keyboard shortcuts. Click on the 'Help' menu, and then 'Keyboard Shortcuts' to see a list.\n",
    "\n",
    "<span style=\"color:blue\">When you're in <b>Command mode</b>, cells are outlined in blue</span>. <span style=\"color:green\">When you're in <b>Edit mode</b>, blocks are outlined in green</span>.\n",
    "\n",
    "<hr>\n",
    "\n",
    "### Using Markdown\n",
    "Markdown is useful because it can be formatted using simple symbols.\n",
    "* You can create bulleted lists using asterisks.\n",
    "* Similarly, you can create numbered lists using numbers.\n",
    "* You can **bold** with two asterisks or underscores on either side (`**bold**`) or *italicize* with one asterisk or underscore (`*italicize*`)\n",
    "* Pound signs (#) create headers. More pound signs means a smaller header.\n",
    "\n",
    "> **Task**: Edit the markdown cell below with a quick biography of yourself. You should have your name as a big header, a short quippy subtitle for yourself as a smaller header, and a three bullet points that use both **bold** and *italic*.</div>"
   ]
  },
  {
   "cell_type": "markdown",
   "metadata": {},
   "source": [
    "# Johnatan (Yonatan) Aljadeff\n",
    "* I am a faculty member in the Neurobiology department.\n",
    "* **My lab uses theoretical modeling and computational data analysis to advance our understanding of how the brain works.**\n",
    "* I grew up in Israel.\n",
    "* My undergraduate and graduate degrees are in physics. During grad school (at _UCSD_!) I decided that the brain is the most interesting system to investigate, and shifted my focus from theoretical physics to neuroscience."
   ]
  },
  {
   "cell_type": "markdown",
   "metadata": {},
   "source": [
    "### Using Code Cells\n",
    "Code cells will be read by the Python interpreter. In other words, the Python kernel will run whatever it recognizes as code within the cell.\n",
    "> **Task**: Run the code cell below (see instructions within the cell)."
   ]
  },
  {
   "cell_type": "code",
   "execution_count": 1,
   "metadata": {},
   "outputs": [
    {
     "name": "stdout",
     "output_type": "stream",
     "text": [
      "Nice work!\n"
     ]
    }
   ],
   "source": [
    "# In Python, anything with a \"#\" in front of it is code annotation, and is not read by the computer.\n",
    "# Run this cell by clicking in it and then pressing shift and enter/return simultaneously.\n",
    "# The line below will print a message for us. After you import it, Python will print a message.\n",
    "# (having printed messages like these is a really nice way to check that your cell actually ran!)\n",
    "print('Nice work!')"
   ]
  },
  {
   "cell_type": "markdown",
   "metadata": {},
   "source": [
    "## Part II. Python Expressions & Variables\n",
    "\n",
    "We can perform various arithmetic operations in Python:\n",
    "\n",
    "| Symbol |    Operation   | Usage |\n",
    "|:------:|:--------------:|:-----:|\n",
    "|    +   |    Addition    |  10+2 |\n",
    "|    -   |   Subtraction  |  10-2 |\n",
    "|    *   | Multiplication |  10*2 |\n",
    "|    /   |    Division    |  10/2 |\n",
    "|   **   |    Exponent    | 10**2 |\n",
    "| %      |    Modulo      |  10%2 |\n",
    "\n",
    "Notes:\n",
    "* The default order of operations is the same as in mathematics! (PEMDAS)\n",
    "* If you want a whole number from your division, use // instead"
   ]
  },
  {
   "cell_type": "markdown",
   "metadata": {},
   "source": [
    "<div class=\"alert alert-success\"><b>Task:</b> Try each of the operators above. Before using the modulo operator, predict what it will output, and make sure it produces what you expect.</div>"
   ]
  },
  {
   "cell_type": "code",
   "execution_count": 14,
   "metadata": {},
   "outputs": [
    {
     "name": "stdout",
     "output_type": "stream",
     "text": [
      "16\n",
      "142850\n",
      "571428\n",
      "71428.5\n",
      "377.96428402694346\n",
      "1\n"
     ]
    }
   ],
   "source": [
    "# Let's play with numbers weee\n",
    "print(8*2)\n",
    "print(142857-7)\n",
    "print(142857*4)\n",
    "print(142857/2)\n",
    "print(142857**0.5)\n",
    "print(142857%7)"
   ]
  },
  {
   "cell_type": "markdown",
   "metadata": {},
   "source": [
    "## Variables\n",
    "Variables enable us to store a value and come back to it later. They are defined with `name = value`. *Assignment is not the same thing as equality,* as in mathematics.\n",
    "\n",
    "### Assigning variables"
   ]
  },
  {
   "cell_type": "markdown",
   "metadata": {},
   "source": [
    "<div class=\"alert alert-success\"><b>Task:</b> Create two variables: a & b. Then, use an expression that combines a and b, and assign this to c. In the end, c should be equal to 6.</div>"
   ]
  },
  {
   "cell_type": "code",
   "execution_count": 3,
   "metadata": {},
   "outputs": [
    {
     "name": "stdout",
     "output_type": "stream",
     "text": [
      "6.0\n"
     ]
    }
   ],
   "source": [
    "# Let's save a few integers and then manipulate them.\n",
    "a = 2\n",
    "b = 2\n",
    "c = a**a+a*b/b\n",
    "print(c)"
   ]
  },
  {
   "cell_type": "markdown",
   "metadata": {},
   "source": [
    "<b>Note</b>: Most code cells will not give you an output unless you ask for it. You can use `print( )` to output a variable or string. However, cells that *only* contain one variable will print its value.\n",
    "\n",
    "<div class=\"alert alert-success\"><b>Task:</b> Create a cell below and output your variable c.\n",
    "    <br><b>Hint</b>: Look in Help > Keyboard Shortcuts for a quick way to create a new cell below. </div>"
   ]
  },
  {
   "cell_type": "markdown",
   "metadata": {},
   "source": [
    "## Part III. Python Syntax\n",
    "\n",
    "### Test #1: Do spaces matter in Python?\n",
    "\n",
    "We can run experiments in coding, just like we can in biology. Here, we'll run a small experiment to test whether or not spaces matter. In the cell above, we showed you an example of using a `print` statement to display a line of text.\n",
    "\n",
    "> **Task**: What do you think will happen if you add a space after `print`, before the parentheses? Test your hypothesis in the blank cell below"
   ]
  },
  {
   "cell_type": "code",
   "execution_count": 4,
   "metadata": {},
   "outputs": [
    {
     "name": "stdout",
     "output_type": "stream",
     "text": [
      "6.0\n",
      "6.0\n"
     ]
    }
   ],
   "source": [
    "# Test print here\n",
    "print(c)\n",
    "print (c)"
   ]
  },
  {
   "cell_type": "markdown",
   "metadata": {},
   "source": [
    "### Test #2: Does capitalization matter in Python?\n",
    "> **Task** Similar to above, test whether or not capitalization matters here!"
   ]
  },
  {
   "cell_type": "code",
   "execution_count": 5,
   "metadata": {},
   "outputs": [
    {
     "name": "stdout",
     "output_type": "stream",
     "text": [
      "6.0\n"
     ]
    },
    {
     "ename": "NameError",
     "evalue": "name 'Print' is not defined",
     "output_type": "error",
     "traceback": [
      "\u001b[0;31m---------------------------------------------------------------------------\u001b[0m",
      "\u001b[0;31mNameError\u001b[0m                                 Traceback (most recent call last)",
      "\u001b[0;32m<ipython-input-5-3dd85861185d>\u001b[0m in \u001b[0;36m<module>\u001b[0;34m\u001b[0m\n\u001b[1;32m      1\u001b[0m \u001b[0;31m# Test here\u001b[0m\u001b[0;34m\u001b[0m\u001b[0;34m\u001b[0m\u001b[0;34m\u001b[0m\u001b[0m\n\u001b[1;32m      2\u001b[0m \u001b[0mprint\u001b[0m\u001b[0;34m(\u001b[0m\u001b[0mc\u001b[0m\u001b[0;34m)\u001b[0m\u001b[0;34m\u001b[0m\u001b[0;34m\u001b[0m\u001b[0m\n\u001b[0;32m----> 3\u001b[0;31m \u001b[0mPrint\u001b[0m\u001b[0;34m(\u001b[0m\u001b[0mc\u001b[0m\u001b[0;34m)\u001b[0m\u001b[0;34m\u001b[0m\u001b[0;34m\u001b[0m\u001b[0m\n\u001b[0m",
      "\u001b[0;31mNameError\u001b[0m: name 'Print' is not defined"
     ]
    }
   ],
   "source": [
    "# Test here\n",
    "print(c)\n",
    "Print(c)"
   ]
  },
  {
   "cell_type": "markdown",
   "metadata": {},
   "source": [
    "So, Python cares about capitalization, but not spacing (at least in this example). Usefully, Python is also giving us an error message: `NameError: name 'Print' is not defined`.\n",
    "\n",
    "Error messages are extremely useful hints as to why your code may not be working. This one falls into the category \"Name error\". Search \"NameError + Python\" and use this to define a NameError in the box below."
   ]
  },
  {
   "cell_type": "markdown",
   "metadata": {},
   "source": [
    "**NameError**: the NameError occurs when you try to use a variable, function, or module that doesn't exist or wasn't used in a valid way."
   ]
  },
  {
   "cell_type": "markdown",
   "metadata": {},
   "source": [
    "Essentially, Python is telling us that it doesn't know what `Print` is. There's another clue in this notebook telling us that Python is treating `print` and `Print` differently -- can you tell what it is? Write your observations below. "
   ]
  },
  {
   "cell_type": "markdown",
   "metadata": {},
   "source": [
    "**Observations**: print is in green, Print is in black"
   ]
  },
  {
   "cell_type": "markdown",
   "metadata": {},
   "source": [
    "### Test #3: Do indents or white space matter?\n",
    "\n",
    "One final test! Does Python care about indents (or spaces in front of the code), or white space (blank lines in between lines of code)? Create a Code cell to test these, and then a new Markdown cell to write your observations below."
   ]
  },
  {
   "cell_type": "code",
   "execution_count": 6,
   "metadata": {},
   "outputs": [
    {
     "name": "stdout",
     "output_type": "stream",
     "text": [
      "6.0\n",
      "6.0\n"
     ]
    }
   ],
   "source": [
    "    print(c)\n",
    "\n",
    "print(c)"
   ]
  },
  {
   "cell_type": "markdown",
   "metadata": {},
   "source": [
    "Blank spaces and lines don't matter, but let's revisit this when we learn about loops!"
   ]
  },
  {
   "cell_type": "markdown",
   "metadata": {},
   "source": [
    "<hr>\n",
    "\n",
    "## About this notebook\n",
    "\n",
    "* For more useful information, check out Jupyter Notebooks \n",
    "<a href=\"https://www.dataquest.io/blog/jupyter-notebook-tips-tricks-shortcuts/\" class=\"alert-link\">tips & tricks</a>\n",
    ", and more information on how \n",
    "<a href=\"http://jupyter.readthedocs.io/en/latest/architecture/how_jupyter_ipython_work.html\" class=\"alert-link\">notebooks work</a>."
   ]
  }
 ],
 "metadata": {
  "kernelspec": {
   "display_name": "Python 3",
   "language": "python",
   "name": "python3"
  },
  "language_info": {
   "codemirror_mode": {
    "name": "ipython",
    "version": 3
   },
   "file_extension": ".py",
   "mimetype": "text/x-python",
   "name": "python",
   "nbconvert_exporter": "python",
   "pygments_lexer": "ipython3",
   "version": "3.7.3"
  }
 },
 "nbformat": 4,
 "nbformat_minor": 5
}
